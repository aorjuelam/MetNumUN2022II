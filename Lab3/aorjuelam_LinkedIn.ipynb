{
  "nbformat": 4,
  "nbformat_minor": 0,
  "metadata": {
    "colab": {
      "provenance": [],
      "authorship_tag": "ABX9TyN9Ut0atgfWEWhDJ2jcWsim",
      "include_colab_link": true
    },
    "kernelspec": {
      "name": "python3",
      "display_name": "Python 3"
    },
    "language_info": {
      "name": "python"
    }
  },
  "cells": [
    {
      "cell_type": "markdown",
      "metadata": {
        "id": "view-in-github",
        "colab_type": "text"
      },
      "source": [
        "<a href=\"https://colab.research.google.com/github/aorjuelam/MetNumUN2022II/blob/main/Lab3/aorjuelam_LinkedIn.ipynb\" target=\"_parent\"><img src=\"https://colab.research.google.com/assets/colab-badge.svg\" alt=\"Open In Colab\"/></a>"
      ]
    },
    {
      "cell_type": "code",
      "execution_count": null,
      "metadata": {
        "id": "_FS-kvR1Yc9d"
      },
      "outputs": [],
      "source": [
        "Perfil de LinkedIn:\n",
        "https://www.linkedin.com/in/alejandro-orjuela-028677250/"
      ]
    }
  ]
}